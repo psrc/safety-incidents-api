{
 "cells": [
  {
   "cell_type": "code",
   "execution_count": null,
   "metadata": {},
   "outputs": [],
   "source": [
    "import pandas as pd\n",
    "import requests\n",
    "import json\n",
    "import plotly.express as px\n",
    "%matplotlib inline\n",
    "from IPython.display import display, HTML\n",
    "import plotly.io as pio"
   ]
  },
  {
   "cell_type": "code",
   "execution_count": null,
   "metadata": {},
   "outputs": [],
   "source": [
    "def get_map(df, lat_col, lon_col, color_field):\n",
    "    fig = px.scatter_map(df, lat=df[lat_col], lon = df[lon_col], zoom=8, color=color_field)\n",
    "    fig.update_layout(mapbox_style=\"carto-positron\")\n",
    "    fig.update_layout(margin={\"r\":0,\"t\":0,\"l\":0,\"b\":0})\n",
    "    return fig \n",
    "\n"
   ]
  },
  {
   "cell_type": "code",
   "execution_count": null,
   "metadata": {},
   "outputs": [],
   "source": [
    "\n",
    "base_url = 'http://localhost:8000/'"
   ]
  },
  {
   "cell_type": "markdown",
   "metadata": {},
   "source": [
    "Get all Incidents:"
   ]
  },
  {
   "cell_type": "code",
   "execution_count": null,
   "metadata": {},
   "outputs": [],
   "source": [
    "\n",
    "response=requests.get(f'{base_url}incidents').json()\n",
    "df=pd.DataFrame(response)\n",
    "my_map = get_map(df, 'Latitude', 'Longitude', 'County_Name')\n",
    "my_map.show()"
   ]
  },
  {
   "cell_type": "markdown",
   "metadata": {},
   "source": [
    "Get Incidents by County:"
   ]
  },
  {
   "cell_type": "code",
   "execution_count": null,
   "metadata": {},
   "outputs": [],
   "source": [
    "payload = {'County_Name': 'King'}\n",
    "response=requests.get(f'{base_url}/incidents/', payload).json()\n",
    "df=pd.DataFrame(response)\n",
    "\n",
    "my_map = get_map(df, 'Latitude', 'Longitude', 'County_Name')\n",
    "my_map.show()"
   ]
  },
  {
   "cell_type": "markdown",
   "metadata": {},
   "source": [
    "Get Incidents By City:"
   ]
  },
  {
   "cell_type": "code",
   "execution_count": null,
   "metadata": {},
   "outputs": [],
   "source": [
    "payload = {'City_Name': 'Seattle'}\n",
    "response=requests.get(f'{base_url}/incidents/', payload).json()\n",
    "df=pd.DataFrame(response)\n",
    "\n",
    "my_map = get_map(df, 'Latitude', 'Longitude', 'City_Name')\n",
    "my_map.show()"
   ]
  },
  {
   "cell_type": "markdown",
   "metadata": {},
   "source": [
    "Get Vehicles for Incidents selected above:"
   ]
  },
  {
   "cell_type": "code",
   "execution_count": null,
   "metadata": {},
   "outputs": [],
   "source": [
    "vehicles_list = df.Collision_Report_Number.to_list()\n",
    "payload = {'ids': vehicles_list}\n",
    "\n",
    "response=requests.get(f'{base_url}/vehicles/', payload).json()\n",
    "\n",
    "df_vehicles=pd.DataFrame(response)\n",
    "df_vehicles"
   ]
  },
  {
   "cell_type": "markdown",
   "metadata": {},
   "source": [
    "Get all Vehicles"
   ]
  },
  {
   "cell_type": "code",
   "execution_count": null,
   "metadata": {},
   "outputs": [],
   "source": [
    "response=requests.get(f'{base_url}/vehicles/').json()\n",
    "\n",
    "df_vehicles=pd.DataFrame(response)\n",
    "df_vehicles"
   ]
  }
 ],
 "metadata": {
  "kernelspec": {
   "display_name": "safety_data_env",
   "language": "python",
   "name": "python3"
  },
  "language_info": {
   "codemirror_mode": {
    "name": "ipython",
    "version": 3
   },
   "file_extension": ".py",
   "mimetype": "text/x-python",
   "name": "python",
   "nbconvert_exporter": "python",
   "pygments_lexer": "ipython3",
   "version": "3.11.11"
  }
 },
 "nbformat": 4,
 "nbformat_minor": 2
}
