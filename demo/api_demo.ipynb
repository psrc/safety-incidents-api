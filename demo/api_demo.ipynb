{
 "cells": [
  {
   "cell_type": "raw",
   "metadata": {
    "vscode": {
     "languageId": "raw"
    }
   },
   "source": [
    "---\n",
    "title: \"Demo: incident map\"\n",
    "date: today\n",
    "---"
   ]
  },
  {
   "cell_type": "code",
   "execution_count": 1,
   "metadata": {},
   "outputs": [],
   "source": [
    "import pandas as pd\n",
    "import requests\n",
    "import json\n",
    "import plotly.express as px\n",
    "\n",
    "# for plotly graphs to show in HTML\n",
    "import plotly.io as pio\n",
    "pio.renderers.default = \"iframe\"\n",
    "# pio.renderers.default = \"plotly_mimetype+notebook_connected\""
   ]
  },
  {
   "cell_type": "markdown",
   "metadata": {},
   "source": [
    "## Get all Incidents"
   ]
  },
  {
   "cell_type": "code",
   "execution_count": 2,
   "metadata": {},
   "outputs": [
    {
     "data": {
      "text/html": [
       "<div>\n",
       "<style scoped>\n",
       "    .dataframe tbody tr th:only-of-type {\n",
       "        vertical-align: middle;\n",
       "    }\n",
       "\n",
       "    .dataframe tbody tr th {\n",
       "        vertical-align: top;\n",
       "    }\n",
       "\n",
       "    .dataframe thead th {\n",
       "        text-align: right;\n",
       "    }\n",
       "</style>\n",
       "<table border=\"1\" class=\"dataframe\">\n",
       "  <thead>\n",
       "    <tr style=\"text-align: right;\">\n",
       "      <th></th>\n",
       "      <th>incident_rec_id</th>\n",
       "      <th>Collision_Report_Number</th>\n",
       "      <th>incident_date</th>\n",
       "      <th>City_Name</th>\n",
       "      <th>County_Name</th>\n",
       "      <th>Latitude</th>\n",
       "      <th>Longitude</th>\n",
       "    </tr>\n",
       "  </thead>\n",
       "  <tbody>\n",
       "    <tr>\n",
       "      <th>0</th>\n",
       "      <td>1</td>\n",
       "      <td>EC83185</td>\n",
       "      <td>2022-09-07</td>\n",
       "      <td>Bremerton</td>\n",
       "      <td>Kitsap</td>\n",
       "      <td>47.601747</td>\n",
       "      <td>-122.623934</td>\n",
       "    </tr>\n",
       "    <tr>\n",
       "      <th>1</th>\n",
       "      <td>2</td>\n",
       "      <td>EC83186</td>\n",
       "      <td>2022-09-10</td>\n",
       "      <td></td>\n",
       "      <td>Kitsap</td>\n",
       "      <td>47.621335</td>\n",
       "      <td>-122.628863</td>\n",
       "    </tr>\n",
       "    <tr>\n",
       "      <th>2</th>\n",
       "      <td>3</td>\n",
       "      <td>EC83467</td>\n",
       "      <td>2022-08-04</td>\n",
       "      <td></td>\n",
       "      <td>Kitsap</td>\n",
       "      <td>47.854215</td>\n",
       "      <td>-122.584361</td>\n",
       "    </tr>\n",
       "    <tr>\n",
       "      <th>3</th>\n",
       "      <td>4</td>\n",
       "      <td>EC83469</td>\n",
       "      <td>2022-09-08</td>\n",
       "      <td></td>\n",
       "      <td>Kitsap</td>\n",
       "      <td>47.515069</td>\n",
       "      <td>-122.655731</td>\n",
       "    </tr>\n",
       "    <tr>\n",
       "      <th>4</th>\n",
       "      <td>5</td>\n",
       "      <td>EC83472</td>\n",
       "      <td>2022-09-13</td>\n",
       "      <td></td>\n",
       "      <td>Kitsap</td>\n",
       "      <td>47.632233</td>\n",
       "      <td>-122.628873</td>\n",
       "    </tr>\n",
       "  </tbody>\n",
       "</table>\n",
       "</div>"
      ],
      "text/plain": [
       "   incident_rec_id Collision_Report_Number incident_date  City_Name  \\\n",
       "0                1                 EC83185    2022-09-07  Bremerton   \n",
       "1                2                 EC83186    2022-09-10              \n",
       "2                3                 EC83467    2022-08-04              \n",
       "3                4                 EC83469    2022-09-08              \n",
       "4                5                 EC83472    2022-09-13              \n",
       "\n",
       "  County_Name   Latitude   Longitude  \n",
       "0      Kitsap  47.601747 -122.623934  \n",
       "1      Kitsap  47.621335 -122.628863  \n",
       "2      Kitsap  47.854215 -122.584361  \n",
       "3      Kitsap  47.515069 -122.655731  \n",
       "4      Kitsap  47.632233 -122.628873  "
      ]
     },
     "execution_count": 2,
     "metadata": {},
     "output_type": "execute_result"
    }
   ],
   "source": [
    "base_url = 'http://localhost:8000/'\n",
    "response=requests.get(f'{base_url}incidents').json()\n",
    "df=pd.DataFrame(response)\n",
    "\n",
    "df.head()"
   ]
  },
  {
   "cell_type": "code",
   "execution_count": 3,
   "metadata": {},
   "outputs": [
    {
     "data": {
      "text/html": [
       "<div>\n",
       "<style scoped>\n",
       "    .dataframe tbody tr th:only-of-type {\n",
       "        vertical-align: middle;\n",
       "    }\n",
       "\n",
       "    .dataframe tbody tr th {\n",
       "        vertical-align: top;\n",
       "    }\n",
       "\n",
       "    .dataframe thead th {\n",
       "        text-align: right;\n",
       "    }\n",
       "</style>\n",
       "<table border=\"1\" class=\"dataframe\">\n",
       "  <thead>\n",
       "    <tr style=\"text-align: right;\">\n",
       "      <th></th>\n",
       "      <th>County_Name</th>\n",
       "      <th>number of incidents</th>\n",
       "    </tr>\n",
       "  </thead>\n",
       "  <tbody>\n",
       "    <tr>\n",
       "      <th>0</th>\n",
       "      <td>King</td>\n",
       "      <td>29999</td>\n",
       "    </tr>\n",
       "    <tr>\n",
       "      <th>1</th>\n",
       "      <td>Kitsap</td>\n",
       "      <td>2967</td>\n",
       "    </tr>\n",
       "    <tr>\n",
       "      <th>2</th>\n",
       "      <td>Pierce</td>\n",
       "      <td>13346</td>\n",
       "    </tr>\n",
       "    <tr>\n",
       "      <th>3</th>\n",
       "      <td>Snohomish</td>\n",
       "      <td>11274</td>\n",
       "    </tr>\n",
       "  </tbody>\n",
       "</table>\n",
       "</div>"
      ],
      "text/plain": [
       "  County_Name  number of incidents\n",
       "0        King                29999\n",
       "1      Kitsap                 2967\n",
       "2      Pierce                13346\n",
       "3   Snohomish                11274"
      ]
     },
     "execution_count": 3,
     "metadata": {},
     "output_type": "execute_result"
    }
   ],
   "source": [
    "df.groupby('County_Name').size().reset_index(name='number of incidents')"
   ]
  },
  {
   "cell_type": "markdown",
   "metadata": {},
   "source": [
    "- map all incidents"
   ]
  },
  {
   "cell_type": "code",
   "execution_count": 4,
   "metadata": {},
   "outputs": [],
   "source": [
    "def get_map(df, lat_col, lon_col, color_field):\n",
    "    fig = px.scatter_map(df, lat=df[lat_col], lon = df[lon_col], zoom=8, color=color_field)\n",
    "    fig.update_layout(mapbox_style=\"carto-positron\")\n",
    "    fig.update_layout(margin={\"r\":0,\"t\":0,\"l\":0,\"b\":0})\n",
    "    return fig \n"
   ]
  },
  {
   "cell_type": "code",
   "execution_count": 5,
   "metadata": {},
   "outputs": [
    {
     "data": {
      "text/html": [
       "<iframe\n",
       "    scrolling=\"no\"\n",
       "    width=\"100%\"\n",
       "    height=\"545px\"\n",
       "    src=\"iframe_figures/figure_5.html\"\n",
       "    frameborder=\"0\"\n",
       "    allowfullscreen\n",
       "></iframe>\n"
      ]
     },
     "metadata": {},
     "output_type": "display_data"
    }
   ],
   "source": [
    "my_map = get_map(df, 'Latitude', 'Longitude', 'County_Name')\n",
    "my_map.show()"
   ]
  },
  {
   "cell_type": "markdown",
   "metadata": {},
   "source": [
    "## Get Incidents by County"
   ]
  },
  {
   "cell_type": "code",
   "execution_count": 6,
   "metadata": {},
   "outputs": [
    {
     "data": {
      "text/html": [
       "<div>\n",
       "<style scoped>\n",
       "    .dataframe tbody tr th:only-of-type {\n",
       "        vertical-align: middle;\n",
       "    }\n",
       "\n",
       "    .dataframe tbody tr th {\n",
       "        vertical-align: top;\n",
       "    }\n",
       "\n",
       "    .dataframe thead th {\n",
       "        text-align: right;\n",
       "    }\n",
       "</style>\n",
       "<table border=\"1\" class=\"dataframe\">\n",
       "  <thead>\n",
       "    <tr style=\"text-align: right;\">\n",
       "      <th></th>\n",
       "      <th>County_Name</th>\n",
       "      <th>number of incidents</th>\n",
       "    </tr>\n",
       "  </thead>\n",
       "  <tbody>\n",
       "    <tr>\n",
       "      <th>0</th>\n",
       "      <td>King</td>\n",
       "      <td>29999</td>\n",
       "    </tr>\n",
       "  </tbody>\n",
       "</table>\n",
       "</div>"
      ],
      "text/plain": [
       "  County_Name  number of incidents\n",
       "0        King                29999"
      ]
     },
     "execution_count": 6,
     "metadata": {},
     "output_type": "execute_result"
    }
   ],
   "source": [
    "payload = {'County_Name': 'King'}\n",
    "response=requests.get(f'{base_url}/incidents/', payload).json()\n",
    "df=pd.DataFrame(response)\n",
    "\n",
    "df.groupby('County_Name').size().reset_index(name='number of incidents')"
   ]
  },
  {
   "cell_type": "code",
   "execution_count": 7,
   "metadata": {},
   "outputs": [
    {
     "data": {
      "text/html": [
       "<iframe\n",
       "    scrolling=\"no\"\n",
       "    width=\"100%\"\n",
       "    height=\"545px\"\n",
       "    src=\"iframe_figures/figure_7.html\"\n",
       "    frameborder=\"0\"\n",
       "    allowfullscreen\n",
       "></iframe>\n"
      ]
     },
     "metadata": {},
     "output_type": "display_data"
    }
   ],
   "source": [
    "my_map = get_map(df, 'Latitude', 'Longitude', 'County_Name')\n",
    "my_map.show()"
   ]
  },
  {
   "cell_type": "markdown",
   "metadata": {},
   "source": [
    "## Get Incidents By City"
   ]
  },
  {
   "cell_type": "code",
   "execution_count": 8,
   "metadata": {},
   "outputs": [
    {
     "data": {
      "text/html": [
       "<div>\n",
       "<style scoped>\n",
       "    .dataframe tbody tr th:only-of-type {\n",
       "        vertical-align: middle;\n",
       "    }\n",
       "\n",
       "    .dataframe tbody tr th {\n",
       "        vertical-align: top;\n",
       "    }\n",
       "\n",
       "    .dataframe thead th {\n",
       "        text-align: right;\n",
       "    }\n",
       "</style>\n",
       "<table border=\"1\" class=\"dataframe\">\n",
       "  <thead>\n",
       "    <tr style=\"text-align: right;\">\n",
       "      <th></th>\n",
       "      <th>City_Name</th>\n",
       "      <th>number of incidents</th>\n",
       "    </tr>\n",
       "  </thead>\n",
       "  <tbody>\n",
       "    <tr>\n",
       "      <th>0</th>\n",
       "      <td>Seattle</td>\n",
       "      <td>8630</td>\n",
       "    </tr>\n",
       "  </tbody>\n",
       "</table>\n",
       "</div>"
      ],
      "text/plain": [
       "  City_Name  number of incidents\n",
       "0   Seattle                 8630"
      ]
     },
     "execution_count": 8,
     "metadata": {},
     "output_type": "execute_result"
    }
   ],
   "source": [
    "payload = {'City_Name': 'Seattle'}\n",
    "response=requests.get(f'{base_url}/incidents/', payload).json()\n",
    "incident_seattle=pd.DataFrame(response)\n",
    "\n",
    "incident_seattle.groupby('City_Name').size().reset_index(name='number of incidents')"
   ]
  },
  {
   "cell_type": "code",
   "execution_count": 9,
   "metadata": {},
   "outputs": [
    {
     "data": {
      "text/html": [
       "<iframe\n",
       "    scrolling=\"no\"\n",
       "    width=\"100%\"\n",
       "    height=\"545px\"\n",
       "    src=\"iframe_figures/figure_9.html\"\n",
       "    frameborder=\"0\"\n",
       "    allowfullscreen\n",
       "></iframe>\n"
      ]
     },
     "metadata": {},
     "output_type": "display_data"
    }
   ],
   "source": [
    "my_map = get_map(incident_seattle, 'Latitude', 'Longitude', 'City_Name')\n",
    "my_map.show()"
   ]
  },
  {
   "cell_type": "markdown",
   "metadata": {},
   "source": [
    "## Get all Vehicles"
   ]
  },
  {
   "cell_type": "code",
   "execution_count": 10,
   "metadata": {},
   "outputs": [
    {
     "data": {
      "text/html": [
       "<div>\n",
       "<style scoped>\n",
       "    .dataframe tbody tr th:only-of-type {\n",
       "        vertical-align: middle;\n",
       "    }\n",
       "\n",
       "    .dataframe tbody tr th {\n",
       "        vertical-align: top;\n",
       "    }\n",
       "\n",
       "    .dataframe thead th {\n",
       "        text-align: right;\n",
       "    }\n",
       "</style>\n",
       "<table border=\"1\" class=\"dataframe\">\n",
       "  <thead>\n",
       "    <tr style=\"text-align: right;\">\n",
       "      <th></th>\n",
       "      <th>vehicle_rec_id</th>\n",
       "      <th>incident_rec_id</th>\n",
       "      <th>unit_number</th>\n",
       "      <th>Vehicle_Type</th>\n",
       "      <th>Collision_Report_Number</th>\n",
       "      <th>Vehicle_Make</th>\n",
       "      <th>Vehicle_Model</th>\n",
       "      <th>Vehicle_Style</th>\n",
       "      <th>VIN</th>\n",
       "    </tr>\n",
       "  </thead>\n",
       "  <tbody>\n",
       "    <tr>\n",
       "      <th>0</th>\n",
       "      <td>1</td>\n",
       "      <td>39036</td>\n",
       "      <td>3</td>\n",
       "      <td>Passenger Car</td>\n",
       "      <td>EC52595</td>\n",
       "      <td>TOYOTA</td>\n",
       "      <td>AVALON</td>\n",
       "      <td>Sedan</td>\n",
       "      <td>4T1BK36B57U193838</td>\n",
       "    </tr>\n",
       "    <tr>\n",
       "      <th>1</th>\n",
       "      <td>2</td>\n",
       "      <td>39037</td>\n",
       "      <td>1</td>\n",
       "      <td>Pickup,Panel Truck or Vanette under 10,000 lb</td>\n",
       "      <td>EC52596</td>\n",
       "      <td>HYUNDAI</td>\n",
       "      <td>TUCSON</td>\n",
       "      <td>UTILITY</td>\n",
       "      <td>KM8JUCAC1AU111178</td>\n",
       "    </tr>\n",
       "    <tr>\n",
       "      <th>2</th>\n",
       "      <td>3</td>\n",
       "      <td>39037</td>\n",
       "      <td>2</td>\n",
       "      <td>Pickup,Panel Truck or Vanette under 10,000 lb</td>\n",
       "      <td>EC52596</td>\n",
       "      <td>NISSAN</td>\n",
       "      <td>ROGUE</td>\n",
       "      <td>UTILITY</td>\n",
       "      <td>JN8AS5MV3CW376358</td>\n",
       "    </tr>\n",
       "    <tr>\n",
       "      <th>3</th>\n",
       "      <td>4</td>\n",
       "      <td>39038</td>\n",
       "      <td>1</td>\n",
       "      <td>Passenger Car</td>\n",
       "      <td>EC52597</td>\n",
       "      <td>HONDA</td>\n",
       "      <td>CIVIC</td>\n",
       "      <td>Sedan</td>\n",
       "      <td>2HGES26754H602279</td>\n",
       "    </tr>\n",
       "    <tr>\n",
       "      <th>4</th>\n",
       "      <td>5</td>\n",
       "      <td>39039</td>\n",
       "      <td>1</td>\n",
       "      <td>Pickup,Panel Truck or Vanette under 10,000 lb</td>\n",
       "      <td>EC52598</td>\n",
       "      <td>JEEP</td>\n",
       "      <td>COMPASS</td>\n",
       "      <td>UTILITY</td>\n",
       "      <td>1C4NJDBB7GD637883</td>\n",
       "    </tr>\n",
       "  </tbody>\n",
       "</table>\n",
       "</div>"
      ],
      "text/plain": [
       "   vehicle_rec_id  incident_rec_id unit_number  \\\n",
       "0               1            39036           3   \n",
       "1               2            39037           1   \n",
       "2               3            39037           2   \n",
       "3               4            39038           1   \n",
       "4               5            39039           1   \n",
       "\n",
       "                                    Vehicle_Type Collision_Report_Number  \\\n",
       "0                                  Passenger Car                 EC52595   \n",
       "1  Pickup,Panel Truck or Vanette under 10,000 lb                 EC52596   \n",
       "2  Pickup,Panel Truck or Vanette under 10,000 lb                 EC52596   \n",
       "3                                  Passenger Car                 EC52597   \n",
       "4  Pickup,Panel Truck or Vanette under 10,000 lb                 EC52598   \n",
       "\n",
       "  Vehicle_Make Vehicle_Model Vehicle_Style                VIN  \n",
       "0       TOYOTA        AVALON         Sedan  4T1BK36B57U193838  \n",
       "1      HYUNDAI        TUCSON       UTILITY  KM8JUCAC1AU111178  \n",
       "2       NISSAN         ROGUE       UTILITY  JN8AS5MV3CW376358  \n",
       "3        HONDA         CIVIC         Sedan  2HGES26754H602279  \n",
       "4         JEEP       COMPASS       UTILITY  1C4NJDBB7GD637883  "
      ]
     },
     "execution_count": 10,
     "metadata": {},
     "output_type": "execute_result"
    }
   ],
   "source": [
    "response=requests.get(f'{base_url}/vehicles/').json()\n",
    "\n",
    "df_vehicles=pd.DataFrame(response)\n",
    "df_vehicles.head()"
   ]
  },
  {
   "cell_type": "markdown",
   "metadata": {},
   "source": [
    "### Get Vehicles for Incidents in Seattle"
   ]
  },
  {
   "cell_type": "code",
   "execution_count": 11,
   "metadata": {},
   "outputs": [
    {
     "data": {
      "text/html": [
       "<div>\n",
       "<style scoped>\n",
       "    .dataframe tbody tr th:only-of-type {\n",
       "        vertical-align: middle;\n",
       "    }\n",
       "\n",
       "    .dataframe tbody tr th {\n",
       "        vertical-align: top;\n",
       "    }\n",
       "\n",
       "    .dataframe thead th {\n",
       "        text-align: right;\n",
       "    }\n",
       "</style>\n",
       "<table border=\"1\" class=\"dataframe\">\n",
       "  <thead>\n",
       "    <tr style=\"text-align: right;\">\n",
       "      <th></th>\n",
       "      <th>vehicle_rec_id</th>\n",
       "      <th>incident_rec_id</th>\n",
       "      <th>unit_number</th>\n",
       "      <th>Vehicle_Type</th>\n",
       "      <th>Collision_Report_Number</th>\n",
       "      <th>Vehicle_Make</th>\n",
       "      <th>Vehicle_Model</th>\n",
       "      <th>Vehicle_Style</th>\n",
       "      <th>VIN</th>\n",
       "    </tr>\n",
       "  </thead>\n",
       "  <tbody>\n",
       "    <tr>\n",
       "      <th>0</th>\n",
       "      <td>1</td>\n",
       "      <td>39036</td>\n",
       "      <td>3</td>\n",
       "      <td>Passenger Car</td>\n",
       "      <td>EC52595</td>\n",
       "      <td>TOYOTA</td>\n",
       "      <td>AVALON</td>\n",
       "      <td>Sedan</td>\n",
       "      <td>4T1BK36B57U193838</td>\n",
       "    </tr>\n",
       "    <tr>\n",
       "      <th>1</th>\n",
       "      <td>2</td>\n",
       "      <td>39037</td>\n",
       "      <td>1</td>\n",
       "      <td>Pickup,Panel Truck or Vanette under 10,000 lb</td>\n",
       "      <td>EC52596</td>\n",
       "      <td>HYUNDAI</td>\n",
       "      <td>TUCSON</td>\n",
       "      <td>UTILITY</td>\n",
       "      <td>KM8JUCAC1AU111178</td>\n",
       "    </tr>\n",
       "    <tr>\n",
       "      <th>2</th>\n",
       "      <td>3</td>\n",
       "      <td>39037</td>\n",
       "      <td>2</td>\n",
       "      <td>Pickup,Panel Truck or Vanette under 10,000 lb</td>\n",
       "      <td>EC52596</td>\n",
       "      <td>NISSAN</td>\n",
       "      <td>ROGUE</td>\n",
       "      <td>UTILITY</td>\n",
       "      <td>JN8AS5MV3CW376358</td>\n",
       "    </tr>\n",
       "    <tr>\n",
       "      <th>3</th>\n",
       "      <td>4</td>\n",
       "      <td>39038</td>\n",
       "      <td>1</td>\n",
       "      <td>Passenger Car</td>\n",
       "      <td>EC52597</td>\n",
       "      <td>HONDA</td>\n",
       "      <td>CIVIC</td>\n",
       "      <td>Sedan</td>\n",
       "      <td>2HGES26754H602279</td>\n",
       "    </tr>\n",
       "    <tr>\n",
       "      <th>4</th>\n",
       "      <td>5</td>\n",
       "      <td>39039</td>\n",
       "      <td>1</td>\n",
       "      <td>Pickup,Panel Truck or Vanette under 10,000 lb</td>\n",
       "      <td>EC52598</td>\n",
       "      <td>JEEP</td>\n",
       "      <td>COMPASS</td>\n",
       "      <td>UTILITY</td>\n",
       "      <td>1C4NJDBB7GD637883</td>\n",
       "    </tr>\n",
       "  </tbody>\n",
       "</table>\n",
       "</div>"
      ],
      "text/plain": [
       "   vehicle_rec_id  incident_rec_id unit_number  \\\n",
       "0               1            39036           3   \n",
       "1               2            39037           1   \n",
       "2               3            39037           2   \n",
       "3               4            39038           1   \n",
       "4               5            39039           1   \n",
       "\n",
       "                                    Vehicle_Type Collision_Report_Number  \\\n",
       "0                                  Passenger Car                 EC52595   \n",
       "1  Pickup,Panel Truck or Vanette under 10,000 lb                 EC52596   \n",
       "2  Pickup,Panel Truck or Vanette under 10,000 lb                 EC52596   \n",
       "3                                  Passenger Car                 EC52597   \n",
       "4  Pickup,Panel Truck or Vanette under 10,000 lb                 EC52598   \n",
       "\n",
       "  Vehicle_Make Vehicle_Model Vehicle_Style                VIN  \n",
       "0       TOYOTA        AVALON         Sedan  4T1BK36B57U193838  \n",
       "1      HYUNDAI        TUCSON       UTILITY  KM8JUCAC1AU111178  \n",
       "2       NISSAN         ROGUE       UTILITY  JN8AS5MV3CW376358  \n",
       "3        HONDA         CIVIC         Sedan  2HGES26754H602279  \n",
       "4         JEEP       COMPASS       UTILITY  1C4NJDBB7GD637883  "
      ]
     },
     "execution_count": 11,
     "metadata": {},
     "output_type": "execute_result"
    }
   ],
   "source": [
    "vehicles_list = incident_seattle.Collision_Report_Number.to_list()\n",
    "payload = {'ids': vehicles_list}\n",
    "\n",
    "response=requests.get(f'{base_url}/vehicles/', payload).json()\n",
    "\n",
    "vehicles_seattle=pd.DataFrame(response)\n",
    "vehicles_seattle.head()"
   ]
  }
 ],
 "metadata": {
  "kernelspec": {
   "display_name": "safety_data_env",
   "language": "python",
   "name": "python3"
  },
  "language_info": {
   "codemirror_mode": {
    "name": "ipython",
    "version": 3
   },
   "file_extension": ".py",
   "mimetype": "text/x-python",
   "name": "python",
   "nbconvert_exporter": "python",
   "pygments_lexer": "ipython3",
   "version": "3.11.11"
  }
 },
 "nbformat": 4,
 "nbformat_minor": 2
}
